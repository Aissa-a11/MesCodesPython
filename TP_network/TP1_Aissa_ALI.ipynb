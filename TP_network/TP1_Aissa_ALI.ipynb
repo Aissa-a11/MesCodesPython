{
 "cells": [
  {
   "cell_type": "markdown",
   "metadata": {},
   "source": [
   
    "\n",
    "We can use the following libraries."
   ]
  },
  {
   "cell_type": "code",
   "execution_count": 1,
   "metadata": {
    "collapsed": false
   },
   "outputs": [],
   "source": [
    "import pylab as plt\n",
    "import math\n",
    "import sys\n"
   ]
  },
  {
   "cell_type": "markdown",
   "metadata": {},
   "source": [
    "## Exercise 1: get things started"
   ]
  },
  {
   "cell_type": "markdown",
   "metadata": {},
   "source": [
    "### Question 1\n",
    "\n",
    "Create manually a few graphs (with approximately a dozen nodes) and store them in the format (for each line):\n",
    "\n",
    "x y \n",
    "\n",
    "You will use them to test your codes."
   ]
  },
  {
   "cell_type": "code",
   "execution_count": 1,
   "metadata": {},
   "outputs": [
    {
     "name": "stdout",
     "output_type": "stream",
     "text": [
      "0 2\n",
      "1 2\n",
      "0 1\n",
      "1 3\n",
      "1 5\n",
      "2 3\n",
      "4 5\n",
      "4 6\n",
      "6 7\n",
      "7 2\n",
      "6 9\n",
      "9 8\n",
      "6 8\n",
      "7 10\n",
      "10 11\n",
      "11 9\n",
      "12 13\n",
      "13 14\n",
      "\n"
     ]
    }
   ],
   "source": [
    "f= open(\"graphs.txt\", 'r') #en lecture\n",
    "contenu= f.read()\n",
    "print(contenu)"
   ]
  },
  {
   "cell_type": "markdown",
   "metadata": {},
   "source": [
    "### Question 2\n",
    "\n",
    "Download the following graphs:\n",
    "\n",
    "http://snap.stanford.edu/data/email-Eu-core.html\n",
    "\n",
    "http://snap.stanford.edu/data/com-Amazon.html\n",
    "\n",
    "http://snap.stanford.edu/data/com-LiveJournal.html\n",
    "\n",
    "http://snap.stanford.edu/data/com-Orkut.html\n",
    "\n",
    "Also, download the graph email_data_ebel.txt from http://lioneltabourier.fr/teaching_en.html\n",
    "\n",
    "All these graphs allow you to check the results of your programs.\n"
   ]
  },
  {
   "cell_type": "markdown",
   "metadata": {},
   "source": [
    "### Question 3\n",
    "\n",
    "Make a program which reads a graph from a text file and counts the number of nodes and edges in a graph (without storing it in memory). If a same link appears several times, it will be counted as many times."
   ]
  },
  {
   "cell_type": "code",
   "execution_count": 2,
   "metadata": {
    "collapsed": false
   },
   "outputs": [
    {
     "name": "stdout",
     "output_type": "stream",
     "text": [
      "0 2\n",
      "1 2\n",
      "0 1\n",
      "1 3\n",
      "1 5\n",
      "2 3\n",
      "4 5\n",
      "4 6\n",
      "6 7\n",
      "7 2\n",
      "6 9\n",
      "9 8\n",
      "6 8\n",
      "7 10\n",
      "10 11\n",
      "11 9\n",
      "12 13\n",
      "13 14\n",
      "\n",
      "Counter({'2': 4, '1': 4, '6': 4, '7': 3, '9': 3, '0': 2, '3': 2, '5': 2, '4': 2, '8': 2, '10': 2, '11': 2, '13': 2, '12': 1, '14': 1})\n",
      "nombre de noeuds = 15\n",
      "nombre de liens= 18\n"
     ]
    }
   ],
   "source": [
    "f = open(\"graphs.txt\", 'r')     #ouverture du fichier\n",
    "contenu=f.read()               #lecture du fichier\n",
    "print(contenu)                  #affichage du contenu                    \n",
    "      \n",
    "f = open(\"graphs.txt\", 'r')\n",
    "NombreDeLiens=len(f.readlines())\n",
    "\n",
    "Liste=contenu.split()    #séparation des élements de la liste avec duplication de noeuds\n",
    "#print(Liste)\n",
    "from collections import Counter\n",
    "compteur = Counter(Liste)                #utlisation d compteur por éleminer les doublons\n",
    "print(compteur)\n",
    "NombreDeNoeuds=len(compteur)             #nombre de noeuds \n",
    "\n",
    "print(\"nombre de noeuds =\", NombreDeNoeuds)\n",
    "print(\"nombre de liens=\", NombreDeLiens)"
   ]
  },
  {
   "cell_type": "markdown",
   "metadata": {},
   "source": [
    "### Question 4\n",
    "\n",
    "Make a program which counts the degree (i.e. the number of edges) of a node of a graph (without storing it in memory). If a same link appears several times, it will increase the degree by as many times. In case of a self-loop, the degree is increased once."
   ]
  },
  {
   "cell_type": "code",
   "execution_count": 5,
   "metadata": {
    "collapsed": false
   },
   "outputs": [
    {
     "name": "stdout",
     "output_type": "stream",
     "text": [
      "veuillez introduire le numéro du noeud en question: \n",
      "le degré du noeud 1 est: 3\n"
     ]
    }
   ],
   "source": [
    "f = open(\"graphs.txt\", 'r')\n",
    "contenu=f.read() \n",
    "\n",
    "Liste=contenu.split() #séparation des strings\n",
    "\n",
    "for i in range (len(Liste)) : #parcours de la liste \n",
    "    Liste[i]=int(Liste[i])    #conversion des str en int\n",
    "i+=0\n",
    "Liste.sort()                  #tri par ordre (facultatif)\n",
    "#print(Liste)\n",
    "print ('veuillez introduire le numéro du noeud en question: ')\n",
    "n=int(input())\n",
    "degree=0\n",
    "for i in range(len(Liste)):\n",
    "    if n == int(Liste[i]):\n",
    "        degree+=1\n",
    "print('le degré du noeud',n, 'est:', degree)\n",
    "if degree==0:\n",
    "    print(\"ce noeud n'existe pas\")\n"
   ]
  },
  {
   "cell_type": "markdown",
   "metadata": {},
   "source": [
    "##### Exercise 2: loading a graph in memory"
   ]
  },
  {
   "cell_type": "markdown",
   "metadata": {},
   "source": [
    "### Question 5\n",
    "\n",
    "Make a program which reads a graph from a text file and load it as a python dictionary of lists. \n",
    "This implementation of the adjacency list format will be the standard format that we will use to store a graph in this course."
   ]
  },
  {
   "cell_type": "code",
   "execution_count": 5,
   "metadata": {},
   "outputs": [
    {
     "ename": "FileNotFoundError",
     "evalue": "[Errno 2] No such file or directory: ''",
     "output_type": "error",
     "traceback": [
      "\u001b[1;31m---------------------------------------------------------------------------\u001b[0m",
      "\u001b[1;31mFileNotFoundError\u001b[0m                         Traceback (most recent call last)",
      "\u001b[1;32m<ipython-input-5-6a4b6db66ff7>\u001b[0m in \u001b[0;36m<module>\u001b[1;34m()\u001b[0m\n\u001b[0;32m     17\u001b[0m     \u001b[0mf\u001b[0m\u001b[1;33m.\u001b[0m\u001b[0mclose\u001b[0m\u001b[1;33m(\u001b[0m\u001b[1;33m)\u001b[0m\u001b[1;33m\u001b[0m\u001b[0m\n\u001b[0;32m     18\u001b[0m     \u001b[1;32mreturn\u001b[0m\u001b[1;33m(\u001b[0m\u001b[0md\u001b[0m\u001b[1;33m)\u001b[0m\u001b[1;33m\u001b[0m\u001b[0m\n\u001b[1;32m---> 19\u001b[1;33m \u001b[0mload_graph\u001b[0m\u001b[1;33m(\u001b[0m\u001b[1;34m\"\"\u001b[0m\u001b[1;33m)\u001b[0m\u001b[1;33m\u001b[0m\u001b[0m\n\u001b[0m",
      "\u001b[1;32m<ipython-input-5-6a4b6db66ff7>\u001b[0m in \u001b[0;36mload_graph\u001b[1;34m(file)\u001b[0m\n\u001b[0;32m      1\u001b[0m \u001b[1;33m\u001b[0m\u001b[0m\n\u001b[0;32m      2\u001b[0m \u001b[1;32mdef\u001b[0m \u001b[0mload_graph\u001b[0m\u001b[1;33m(\u001b[0m\u001b[0mfile\u001b[0m\u001b[1;33m)\u001b[0m\u001b[1;33m:\u001b[0m\u001b[1;33m\u001b[0m\u001b[0m\n\u001b[1;32m----> 3\u001b[1;33m     \u001b[0mf\u001b[0m \u001b[1;33m=\u001b[0m \u001b[0mopen\u001b[0m\u001b[1;33m(\u001b[0m\u001b[0mfile\u001b[0m\u001b[1;33m,\u001b[0m \u001b[1;34m'r'\u001b[0m\u001b[1;33m)\u001b[0m\u001b[1;33m\u001b[0m\u001b[0m\n\u001b[0m\u001b[0;32m      4\u001b[0m     \u001b[0mcontenu\u001b[0m\u001b[1;33m=\u001b[0m\u001b[0mf\u001b[0m\u001b[1;33m.\u001b[0m\u001b[0mread\u001b[0m\u001b[1;33m(\u001b[0m\u001b[1;33m)\u001b[0m\u001b[1;33m\u001b[0m\u001b[0m\n\u001b[0;32m      5\u001b[0m     \u001b[0mListe\u001b[0m\u001b[1;33m=\u001b[0m\u001b[0mcontenu\u001b[0m\u001b[1;33m.\u001b[0m\u001b[0msplit\u001b[0m\u001b[1;33m(\u001b[0m \u001b[1;33m)\u001b[0m\u001b[1;33m\u001b[0m\u001b[0m\n",
      "\u001b[1;31mFileNotFoundError\u001b[0m: [Errno 2] No such file or directory: ''"
     ]
    }
   ],
   "source": [
    "\n",
    "def load_graph(file):\n",
    "    f = open(file, 'r')\n",
    "    contenu=f.read() \n",
    "    Liste=contenu.split( )\n",
    "    d={}\n",
    "    for l in Liste:\n",
    "        d[l]=[]\n",
    "    j=0   \n",
    "    for j in range(len(Liste)-1):\n",
    "             for k in d.keys():\n",
    "                   if k==Liste[j]:\n",
    "                        if j%2==0:\n",
    "                            d[k].append(Liste[j+1])\n",
    "                        if j%2!=0:\n",
    "                            d[k].append(Liste[j-1])\n",
    "    f.close()\n",
    "    return(d)\n",
    "load_graph(\"\")\n"
   ]
  },
  {
   "cell_type": "markdown",
   "metadata": {},
   "source": [
    "### Question 6\n",
    "\n",
    "Make a program that deletes the self-loops and duplicated edges existing in the graph and writes it in a new text file. "
   ]
  },
  {
   "cell_type": "markdown",
   "metadata": {},
   "source": [
    "### Question 7\n",
    "\n",
    "Try the data structure of Question 5 on various graphs downloaded in Question 2. Conclude on the scalability (what graph size can you handle with this data structure)."
   ]
  },
  {
   "cell_type": "code",
   "execution_count": null,
   "metadata": {},
   "outputs": [],
   "source": [
    "f = open(\"com-amazon.ungraph.txt\", 'r') #le temps d'éxecution est assez important\n",
    "contenu=f.read() \n",
    "Liste=contenu.split( )\n",
    "d={}\n",
    "\n",
    "#for i in range(len(Liste)) :\n",
    "     #Liste[i]=int(Liste[i])\n",
    "\n",
    "for l in Liste:\n",
    "    d[l]=[]\n",
    "j=0   \n",
    "for j in range(len(Liste)-1):\n",
    "         for k in d.keys():\n",
    "               if k==Liste[j]:\n",
    "                    if j%2==0:\n",
    "                        d[k].append(Liste[j+1])\n",
    "                    if j%2!=0:\n",
    "                        d[k].append(Liste[j-1])\n",
    "                                      \n",
    "print(d)"
   ]
  },
  {
   "cell_type": "markdown",
   "metadata": {},
   "source": [
    "## Exercise 3: degree distribution"
   ]
  },
  {
   "cell_type": "markdown",
   "metadata": {},
   "source": [
    "### Question 8\n",
    "Create a program which computes the degree distribution of a graph, store it in a python dictionary of the form:\n",
    "\n",
    "deg: number of occurrences"
   ]
  },
  {
   "cell_type": "code",
   "execution_count": 3,
   "metadata": {},
   "outputs": [
    {
     "name": "stdout",
     "output_type": "stream",
     "text": [
      "{0: 2, 2: 3, 1: 3, 3: 2, 5: 2, 4: 2, 6: 4, 7: 3, 9: 2, 8: 2, 10: 2, 11: 2}\n"
     ]
    }
   ],
   "source": [
    "f = open(\"graphs.txt\", 'r')\n",
    "contenu=f.read() \n",
    "Liste=contenu.split( )\n",
    "d={}\n",
    "\n",
    "for i in range(len(Liste)) :\n",
    "     Liste[i]=int(Liste[i])\n",
    "\n",
    "for l in Liste:\n",
    "    d[l]=0\n",
    "j=0 \n",
    "dgr=0\n",
    "for j in range(len(Liste)-1):\n",
    "    \n",
    "    for k in d.keys():\n",
    "            if k==Liste[j]:\n",
    "                d[k]=d[k]+1\n",
    "                \n",
    "                \n",
    "                                      \n",
    "print(d)\n"
   ]
  },
  {
   "cell_type": "markdown",
   "metadata": {},
   "source": [
    "### Question 9\n",
    "\n",
    "Plot the degree distribution in log scale (using matplotlib for example)."
   ]
  },
  {
   "cell_type": "code",
   "execution_count": null,
   "metadata": {},
   "outputs": [],
   "source": []
  }
 ],
 "metadata": {
  "anaconda-cloud": {},
  "kernelspec": {
   "display_name": "Python 3",
   "language": "python",
   "name": "python3"
  },
  "language_info": {
   "codemirror_mode": {
    "name": "ipython",
    "version": 3
   },
   "file_extension": ".py",
   "mimetype": "text/x-python",
   "name": "python",
   "nbconvert_exporter": "python",
   "pygments_lexer": "ipython3",
   "version": "3.6.2"
  }
 },
 "nbformat": 4,
 "nbformat_minor": 2
}
