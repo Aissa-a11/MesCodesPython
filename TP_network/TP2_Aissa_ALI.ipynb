{
 "cells": [
  {
   "cell_type": "markdown",
   "metadata": {},
   "source": [
    
   ]
  },
  {
   "cell_type": "code",
   "execution_count": 1,
   "metadata": {},
   "outputs": [],
   "source": [
    "import matplotlib.pyplot as plt\n",
    "import sys"
   ]
  },
  {
   "cell_type": "markdown",
   "metadata": {},
   "source": [
    "Consider the following test graphs:\n",
    "- http://snap.stanford.edu/data/email-Eu-core.html\n",
    "- http://snap.stanford.edu/data/com-Amazon.html\n",
    "- http://snap.stanford.edu/data/com-LiveJournal.html\n",
    "- http://snap.stanford.edu/data/com-Orkut.html\n",
    "- (https://snap.stanford.edu/data/com-Friendster.html)\n",
    "\n",
    "It can also be usefull to consider some toy graphs (e.g. manually created graphs with a dozen nodes) to test your programs."
   ]
  },
  {
   "cell_type": "markdown",
   "metadata": {},
   "source": [
    "## Exercise 1: BFS\n",
    "\n",
    "Implement an efficient BFS algorithm and test it on the four graphs.  \n",
    "Use your BFS implementation to compute a good lower (and upper) bound to the diameter of a graph.\n",
    "Test your program on the 4 downloaded graphs and for each one of them report the lower bound you have found as well as the running time of your program."
   ]
  },
  {
   "cell_type": "markdown",
   "metadata": {},
   "source": [
    "# Chargement du graphe en memoire"
   ]
  },
  {
   "cell_type": "code",
   "execution_count": 4,
   "metadata": {},
   "outputs": [],
   "source": [
    "def load_graph(file):\n",
    "    f = open(file, 'r')\n",
    "    contenu=f.read() \n",
    "    Liste=contenu.split( )\n",
    "    d={}\n",
    "    for l in Liste:\n",
    "        d[l]=[]\n",
    "    j=0   \n",
    "    for j in range(len(Liste)-1):\n",
    "             for k in d.keys():\n",
    "                   if k==Liste[j]:\n",
    "                        if j%2==0:\n",
    "                            d[k].append(Liste[j+1])\n",
    "                        if j%2!=0:\n",
    "                            d[k].append(Liste[j-1])\n",
    "    f.close()\n",
    "    return(d)\n"
   ]
  },
  {
   "cell_type": "markdown",
   "metadata": {},
   "source": [
    "# les étapes à suivre pour calculer la borne suppérieure et inférieure d'un graphe\n",
    "- On choisit aléatoirement un sommet s.\n",
    "- On détermine à l’aide d’un BFS un sommet x le plus éloigné possible de s.\n",
    "- On détermine à l’aide d’un BFS un sommet y le plus éloigné possible de x.\n",
    "- On renvoie la distance d(x, y).\n",
    "- d(x, y) <= diam(graph) <= 2d(x, y).\n",
    "- On importe la fonction time qui nous permet de calculer le temps d'éxecution du BFS\n",
    "\n"
   ]
  },
  {
   "cell_type": "code",
   "execution_count": null,
   "metadata": {},
   "outputs": [
    {
     "name": "stdout",
     "output_type": "stream",
     "text": [
      "le noeud X le plus loin de la source S est le:  1713 avec une distance de : 24\n",
      "None\n",
      "le temps d éxecution du BFS1 est: 0:01:03.279662\n",
      "veuillez saisir le noeud plus loin de la source trouvé à l'aide du BFS1\n"
     ]
    }
   ],
   "source": [
    "from datetime import datetime\n",
    "start_time =datetime.now()\n",
    "def bfs_algo(graph,s): \n",
    "    \n",
    "    queue=[s]\n",
    "    dist={}\n",
    "    visited=[]\n",
    "\n",
    "    dist[s]=0\n",
    "    \n",
    "    while queue:\n",
    "        node=queue.pop(0)\n",
    "        visited.append(node)\n",
    "        for neighbour in graph[node]:\n",
    "            if neighbour not in visited:\n",
    "                visited.append(neighbour)\n",
    "                dist[neighbour]=dist[node]+1\n",
    "                queue.append(neighbour)\n",
    "    \n",
    "    print(\"le noeud X le plus loin de la source S est le: \",visited[len(visited)-1],\"avec une distance de :\", dist[visited[len(visited)-1]] )\n",
    "print(bfs_algo(load_graph(\"inet.txt\"),\"0\"))\n",
    "end_time=datetime.now()\n",
    "print('le temps d éxecution du BFS1 est: {}'.format(end_time - start_time))\n",
    "\n",
    "\n",
    "def bfs_algo2(graph,s):\n",
    "    queue=[s]\n",
    "    dist={}\n",
    "    visited=[]\n",
    "\n",
    "    dist[s]=0\n",
    "    \n",
    "    while queue:\n",
    "        node=queue.pop(0)\n",
    "        visited.append(node)\n",
    "        for neighbour in graph[node]:\n",
    "            if neighbour not in visited:\n",
    "                visited.append(neighbour)\n",
    "                dist[neighbour]=dist[node]+1\n",
    "                queue.append(neighbour)\n",
    "   \n",
    "    print(\"le diamètre de ce graphe est :\", dist[visited[len(visited)-1]] )\n",
    "\n",
    "print(\"veuillez saisir le noeud plus loin de la source trouvé à l'aide du BFS1\")\n",
    "X=input()\n",
    "print(bfs_algo2(load_graph(\"inet.txt\"),X))\n",
    "   \n"
   ]
  },
  {
   "cell_type": "markdown",
   "metadata": {},
   "source": [
    "# Récapitulatif \n",
    "- email-eu-core.txt: temps d'exécution= 3s / lower bound=6 / upper bound=12\n",
    "- inet.txt: temps: 1 min:03 sec / lower bound=24 /upper bound=48\n",
    "- amazon: temps d'éxecution très long( plus de 15 min avec un core i5 et une connexion à distance)"
   ]
  },
  {
   "cell_type": "markdown",
   "metadata": {},
   "source": [
    "# Exercise 2: Triangles\n",
    "\n",
    "Implement an efficient algorithm for counting triangles. Test your program on the 4 downloaded graphs and report the number of triangles as well as the running time of your program.\n",
    "\n",
    "Generalize your program to compute the transitivity ratio and the clustering of the graph. Test your program on the 4 downloaded graphs and report the two values as well as the running time of your program."
   ]
  },
  {
   "cell_type": "code",
   "execution_count": 22,
   "metadata": {},
   "outputs": [
    {
     "name": "stdout",
     "output_type": "stream",
     "text": [
      "le nombre de triangles est : 105461\n",
      "le temps d éxecution de ce programme est : 0:03:28.531289\n"
     ]
    }
   ],
   "source": [
    "from datetime import datetime\n",
    "start_time =datetime.now()\n",
    "\n",
    "def adjList_to_adjMatrix(graph):\n",
    "    keys=sorted(graph.keys())\n",
    "    size=len(keys)\n",
    "    M = [ [0]*size for i in range(size) ]\n",
    "    for a,b in [(keys.index(a), keys.index(b)) for a, row in graph.items() for b in row]:\n",
    "           M[a][b] = 2 if (a==b) else 1\n",
    "    return M\n",
    "\n",
    "def countTriangle(file):\n",
    "    adjList=load_graph(file)\n",
    "    adjMatrix=adjList_to_adjMatrix(adjList)\n",
    "    nodes = len(adjMatrix) \n",
    "    count_Triangle = 0  \n",
    "    for i in range(nodes): \n",
    "        for j in range(nodes): \n",
    "            for k in range(nodes): \n",
    "                if( i!=j and i !=k and j !=k and \n",
    "                        adjMatrix[i][j] and adjMatrix[j][k] and adjMatrix[k][i]): \n",
    "                    count_Triangle += 1\n",
    "    return int (count_Triangle/6)\n",
    "print(\"le nombre de triangles est :\", countTriangle(\"email-Eu-core.txt\"))\n",
    "end_time=datetime.now()\n",
    "print('le temps d éxecution de ce programme est : {}'.format(end_time - start_time))"
   ]
  },
  {
   "cell_type": "markdown",
   "metadata": {},
   "source": [
    "#### Résultats:\n",
    "- email-core.txt: temps d'éxection=3 min et 28 sec / nombre de triangles: 105461\n",
    "- inet.txt: temps d'attente trop important"
   ]
  },
  {
   "cell_type": "markdown",
   "metadata": {},
   "source": [
    "## Exercice 3 (bonus): Bron-Kerbosch\n",
    "\n",
    "Implement an efficient Bron-Kerbosch algorithm following the wikipedia pseudocode: https://en.wikipedia.org/wiki/Bron%E2%80%93Kerbosch_algorithm. Test your program on the 4 graphs.\n",
    "Report the number of maximal cliques for each graphs as well as the running time of your program."
   ]
  },
  {
   "cell_type": "code",
   "execution_count": 9,
   "metadata": {},
   "outputs": [
    {
     "name": "stdout",
     "output_type": "stream",
     "text": [
      "ssdqs\n"
     ]
    }
   ],
   "source": []
  },
  {
   "cell_type": "markdown",
   "metadata": {},
   "source": [
    "Plot the number of maximal cliques of size k (for k from 1 to the size of a maximum clique) as a function of k for each graph."
   ]
  },
  {
   "cell_type": "code",
   "execution_count": null,
   "metadata": {},
   "outputs": [],
   "source": []
  }
 ],
 "metadata": {
  "kernelspec": {
   "display_name": "Python 3",
   "language": "python",
   "name": "python3"
  },
  "language_info": {
   "codemirror_mode": {
    "name": "ipython",
    "version": 3
   },
   "file_extension": ".py",
   "mimetype": "text/x-python",
   "name": "python",
   "nbconvert_exporter": "python",
   "pygments_lexer": "ipython3",
   "version": "3.6.2"
  }
 },
 "nbformat": 4,
 "nbformat_minor": 2
}
