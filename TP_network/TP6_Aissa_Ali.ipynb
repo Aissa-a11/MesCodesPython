{
 "cells": [
  {
   "cell_type": "markdown",
   "metadata": {},
   "source": [
   
    "\n",
    "We can use the following libraries."
   ]
  },
  {
   "cell_type": "code",
   "execution_count": 3,
   "metadata": {},
   "outputs": [
    {
     "name": "stdout",
     "output_type": "stream",
     "text": [
      "3.6.2 |Continuum Analytics, Inc.| (default, Jul 20 2017, 12:30:02) [MSC v.1900 64 bit (AMD64)]\n"
     ]
    }
   ],
   "source": [
    "import matplotlib.pyplot as plt\n",
    "import math\n",
    "import sys\n",
    "import random\n",
    "import time\n",
    "import copy\n",
    "print(sys.version)"
   ]
  },
  {
   "cell_type": "markdown",
   "metadata": {},
   "source": [
    "## Exercise 1: configuration model"
   ]
  },
  {
   "cell_type": "markdown",
   "metadata": {},
   "source": [
    "In this TP, we will use the graph http://lioneltabourier.fr/documents/inet.txt, load it in memory as a dictionary of lists (as usual). It is a map of a subpart of the Internet.\n",
    "\n",
    "We indicate here the number of nodes, links and triangles of this network:\n",
    "* 9740 nodes \n",
    "* 35567 edges\n",
    "* 206909 triangles"
   ]
  },
  {
   "cell_type": "markdown",
   "metadata": {},
   "source": [
    "### Question 1\n",
    "\n",
    "Create a Configuration Model of the graph with the same degree sequence as the original graph.\n",
    "\n",
    "Unfortunately, the version \"with rejection\" runs too slowly to be used here, so implement the version \"with loops and multi-edges deletion\" seen in the course."
   ]
  },
  {
   "cell_type": "code",
   "execution_count": 4,
   "metadata": {},
   "outputs": [],
   "source": [
    "def load_graph(file):\n",
    "    f = open(file, 'r')\n",
    "    contenu=f.read() \n",
    "    Liste=contenu.split( )\n",
    "    d={}\n",
    "    for l in Liste:\n",
    "        d[l]=[]\n",
    "    j=0   \n",
    "    for j in range(len(Liste)-1):\n",
    "             for k in d.keys():\n",
    "                   if k==Liste[j]:\n",
    "                        if j%2==0:\n",
    "                            d[k].append(Liste[j+1])\n",
    "                        if j%2!=0:\n",
    "                            d[k].append(Liste[j-1])\n",
    "    f.close()\n",
    "    return(d)\n"
   ]
  },
  {
   "cell_type": "code",
   "execution_count": 5,
   "metadata": {},
   "outputs": [],
   "source": [
    "def list_degree(graph):\n",
    "    dict={}\n",
    "    for i in graph:\n",
    "        dict[i]=(len(graph[i]))\n",
    "    return dict\n",
    "l=list_degree(load_graph(\"inet.txt\"))"
   ]
  },
  {
   "cell_type": "code",
   "execution_count": 6,
   "metadata": {},
   "outputs": [],
   "source": [
    "#créeation d'un graphe en introduisant un\n",
    "def Configuration_Model(degree):\n",
    "    clefs = list(degree.keys())\n",
    "    i = 0\n",
    "    for j in degree:\n",
    "        i+=degree[j]\n",
    "    dict = {}\n",
    "    for j in clefs:\n",
    "        dict[j] = []\n",
    "    while i > 0:\n",
    "        u,v = random.choice(clefs),random.choice(clefs)\n",
    "        if degree[u] != 0 and degree[v] != 0:\n",
    "            dict[v].append(u)\n",
    "            dict[u].append(v)\n",
    "            degree[u]-=1\n",
    "            degree[v]-=1\n",
    "            i-=2\n",
    "\n",
    "            if degree[u]==0:\n",
    "                clefs.remove(u)\n",
    "            if degree[v]==0 and u!=v:\n",
    "                clefs.remove(v)\n",
    "    for i in dict:\n",
    "        dict[i].sort()\n",
    "    return dict\n",
    "g=Configuration_Model(l)"
   ]
  },
  {
   "cell_type": "code",
   "execution_count": 7,
   "metadata": {},
   "outputs": [],
   "source": [
    "#supressions des noeuds et des multi-liens\n",
    "def suppressionDesLoops(graph):\n",
    "    for i in graph:\n",
    "        for j in graph[i]:\n",
    "             while j==i and i in graph[i]:\n",
    "                graph[i].remove(j)\n",
    "    return graph\n",
    "g2=suppressionDesLoops(g)"
   ]
  },
  {
   "cell_type": "markdown",
   "metadata": {},
   "source": [
    "### Question 2\n",
    "\n",
    "* Compare the initial degree distribution to the configuration model degree distribution. To do so, compute the fraction of nodes which degree is different to the orginal distribution: $ \\frac{n_{mod}}{n} $\n",
    "* Compare the number of triangles of the configuration model to the one of the original graph, explain in one sentence what you have observed and if it is consistent with what you expected."
   ]
  },
  {
   "cell_type": "markdown",
   "metadata": {},
   "source": [
    "Le nombre de triangles dans le nouveau graphe est supérieur à celui de l'orignal car dans ce modèle on traite deux noeuds par deux "
   ]
  },
  {
   "cell_type": "code",
   "execution_count": 8,
   "metadata": {},
   "outputs": [],
   "source": [
    "#Comparaison des degrés de distribution en traçant un graphe et en comptant la fraction nModel/n\n",
    "def Degree_distribution(graph):\n",
    "    List=[]\n",
    "    dict={}\n",
    "    for i in graph:\n",
    "        List.append(len(graph[i]))\n",
    "    for j in List:\n",
    "        dgr=0\n",
    "        for k in List:\n",
    "            if k==j:\n",
    "                dgr+=1\n",
    "                dict[j]=dgr\n",
    "    return dict\n",
    "G=Degree_distribution(load_graph(\"inet.txt\"))\n",
    "G1=Degree_distribution(g2)"
   ]
  },
  {
   "cell_type": "code",
   "execution_count": 9,
   "metadata": {},
   "outputs": [
    {
     "name": "stdout",
     "output_type": "stream",
     "text": [
      "le rapport entre les noeuds qui ont un degré \n",
      "différent et les neouds qui ont gardé le même degré: 0.006057494866529774\n"
     ]
    }
   ],
   "source": [
    "#Comparaison des degrés de distribution en comptant la fraction nModel/n\n",
    "nModel=0\n",
    "original=load_graph(\"inet.txt\")\n",
    "for j in original:\n",
    "    if len(g2[j])!=len((original[j])):\n",
    "        nModel+=1\n",
    "    \n",
    "print(\"le rapport entre les noeuds qui ont un degré \\ndifférent et les neouds qui ont gardé le même degré:\", nModel/len(original))\n",
    "   "
   ]
  },
  {
   "cell_type": "code",
   "execution_count": 8,
   "metadata": {},
   "outputs": [
    {
     "data": {
      "image/png": "[encoded data removed]",
      "text/plain": [
       "<Figure size 432x288 with 1 Axes>"
      ]
     },
     "metadata": {},
     "output_type": "display_data"
    }
   ],
   "source": [
    "lists=sorted(G.items())\n",
    "lists2=sorted(G1.items())\n",
    "x,y=zip(*lists)\n",
    "a,b=zip(*lists2)\n",
    "plt.subplot(211)\n",
    "plt.scatter(y,x)\n",
    "plt.scatter(b,a)\n",
    "plt.xscale(\"log\")\n",
    "plt.xlabel(\"nombre de voisins\")\n",
    "plt.ylabel(\"nombre de répétition\")\n",
    "plt.title(\"Degree de distribution du graphe original en bleu et le graphe 'Configuration model' en orange'\")\n",
    "plt.show()"
   ]
  },
  {
   "cell_type": "code",
   "execution_count": 10,
   "metadata": {},
   "outputs": [],
   "source": [
    "#compariason du nombre de traingles\n",
    "def adjList_to_adjMatrix(graph): #transformtion d'une liste adjacente à une matrice adjacente pour faciliter le calcul des triangles\n",
    "    keys=sorted(graph.keys())\n",
    "    size=len(keys)\n",
    "    M = [ [0]*size for i in range(size) ]\n",
    "    for a,b in [(keys.index(a), keys.index(b)) for a, row in graph.items() for b in row]:\n",
    "           M[a][b] = 2 if (a==b) else 1\n",
    "    return M\n",
    "M1=adjList_to_adjMatrix(g2)"
   ]
  },
  {
   "cell_type": "code",
   "execution_count": null,
   "metadata": {},
   "outputs": [],
   "source": [
    "#temps d'éxecution trop important\n",
    "def countTriangle(adjMatrix): \n",
    "    nodes = len(adjMatrix) \n",
    "    count_Triangle = 0\n",
    "    for i in range(nodes): \n",
    "        for j in range(nodes): \n",
    "            for k in range(nodes): \n",
    "                if( i!=j and i !=k and j !=k and \n",
    "                        adjMatrix[i][j] and adjMatrix[j][k] and adjMatrix[k][i]): \n",
    "                    count_Triangle += 1\n",
    "    return int (count_Triangle/6)\n",
    "print(\"le nombre de triangles dans le nouveau graphe est :\", countTriangle(M1))"
   ]
  },
  {
   "cell_type": "markdown",
   "metadata": {},
   "source": [
    "le nombre de triangles dans le nouveau graphe est : 96049"
   ]
  },
  {
   "cell_type": "markdown",
   "metadata": {},
   "source": [
    "## Exercise 2: robustness analysis"
   ]
  },
  {
   "cell_type": "markdown",
   "metadata": {},
   "source": [
    "### Question 3\n",
    "\n",
    "In this question, we want to explore if the original network is more or less robust to attacks than the corresponding configuration model is. \n",
    "\n",
    "For this purpose, we follow the same protocol as the one we have seen in PW3: we plot the size of the LCC as a function of a number of nodes removed. Nodes are removed randomly.\n",
    "\n",
    "Discuss your observations in one sentence, in particular do you think that the degree distribution alone can explain the robustness to random failures?"
   ]
  },
  {
   "cell_type": "markdown",
   "metadata": {},
   "source": [
    "Oui d'après ce modèle de graphe aléatoire on déduit que le degré de distribution est un facteur important dans la robustesse du graphe"
   ]
  },
  {
   "cell_type": "code",
   "execution_count": 12,
   "metadata": {},
   "outputs": [
    {
     "name": "stdout",
     "output_type": "stream",
     "text": [
      "9431\n",
      "le temps d éxecution du programme est: 0:00:17.432366\n"
     ]
    }
   ],
   "source": [
    "from datetime import datetime\n",
    "\n",
    "def BFS(graph,s): \n",
    "    \n",
    "    queue=[s]\n",
    "    dist={}\n",
    "    visited=[]\n",
    "\n",
    "    dist[s]=0\n",
    "   \n",
    "    while queue:\n",
    "        node=queue.pop(0)\n",
    "        #visited.append(node)\n",
    "        try:\n",
    "            for neighbour in graph[node]:\n",
    "                if neighbour not in visited:\n",
    "                        visited.append(neighbour)\n",
    "                        dist[neighbour]=dist[node]+1\n",
    "                        queue.append(neighbour)\n",
    "        except KeyError:\n",
    "            continue\n",
    "        \n",
    "    return visited\n",
    "\n",
    "\n",
    "def LargestConnectedComponent(graph):\n",
    "    LCC=0\n",
    "    v=[]\n",
    "    for i in graph:\n",
    "        while i not in v:\n",
    "            BFS(g,i)\n",
    "            for m in BFS(g,i):\n",
    "                v.append(m)\n",
    "            if len(BFS(g,i))>LCC:\n",
    "                LCC=len(BFS(g,i))\n",
    "    return LCC\n",
    "start_time =datetime.now()\n",
    "print(LargestConnectedComponent(g2)) \n",
    "\n",
    "end_time=datetime.now()\n",
    "print('le temps d éxecution du programme est: {}'.format(end_time - start_time))"
   ]
  },
  {
   "cell_type": "code",
   "execution_count": null,
   "metadata": {},
   "outputs": [],
   "source": [
    "def SuppressionNoeuds(graph,n):  \n",
    "    for i in range(n):\n",
    "        node = random.choice(list(graph.keys()))\n",
    "        graph.pop(node)\n",
    "        for j in graph.keys():\n",
    "            if(node in graph[j]):\n",
    "                graph[j].remove(node)\n",
    "    lcc = LargestConnectedComponent(graph)\n",
    "    return (n, lcc)\n",
    "\n",
    "def getLCCperRandomDeleted(graph, x):\n",
    "    node_list = len(graph.keys())\n",
    "    liste = []\n",
    "    for i in range(0, node_list, x):\n",
    "        dict2 = graph.copy()\n",
    "        liste.append(SuppressionNoeuds(dict2, i))\n",
    "    return liste\n",
    "\n",
    "G4= getLCCperRandomDeleted(g2, 1500)\n",
    "\n",
    "liste1 = []\n",
    "liste2 = []\n",
    "\n",
    "for i in G4:\n",
    "        liste1.append(i[0])\n",
    "        liste2.append(i[1])\n",
    "    \n",
    "plt.plot(liste1)\n",
    "plt.xlabel(\"nombre de noeud supprimés\")\n",
    "plt.ylabel(\"LCC\")\n",
    "plt.title(\"les noeuds supprimés\")\n",
    "plt.show()"
   ]
  }
 ],
 "metadata": {
  "kernelspec": {
   "display_name": "Python 3",
   "language": "python",
   "name": "python3"
  },
  "language_info": {
   "codemirror_mode": {
    "name": "ipython",
    "version": 3
   },
   "file_extension": ".py",
   "mimetype": "text/x-python",
   "name": "python",
   "nbconvert_exporter": "python",
   "pygments_lexer": "ipython3",
   "version": "3.6.2"
  }
 },
 "nbformat": 4,
 "nbformat_minor": 2
}
