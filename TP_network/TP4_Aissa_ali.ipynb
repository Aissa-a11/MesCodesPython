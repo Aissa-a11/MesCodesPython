{
 "cells": [
  {
   "cell_type": "markdown",
   "metadata": {},
   "source": [
    
    "\n",
    "We can use the following libraries."
   ]
  },
  {
   "cell_type": "code",
   "execution_count": 1,
   "metadata": {},
   "outputs": [
    {
     "name": "stdout",
     "output_type": "stream",
     "text": [
      "3.6.2 |Continuum Analytics, Inc.| (default, Jul 20 2017, 12:30:02) [MSC v.1900 64 bit (AMD64)]\n"
     ]
    }
   ],
   "source": [
    "import matplotlib.pyplot as plt\n",
    "import math\n",
    "import sys\n",
    "import random\n",
    "print(sys.version)"
   ]
  },
  {
   "cell_type": "markdown",
   "metadata": {},
   "source": [
    "## Exercise 1: Preliminary work"
   ]
  },
  {
   "cell_type": "markdown",
   "metadata": {},
   "source": [
    "### Question 1\n",
    "\n",
    "Download the graph http://lioneltabourier.fr/documents/as_caida.txt and load it in memory as a dictionary of lists (as usual). \n",
    "\n",
    "This graph is a partial map of the Internet at the AS level as obtained using BGP tables during the CAIDA project in 2007. It will be used during the rest of this practical work as a reference for comparison. \n",
    "\n",
    "Count its number of nodes and links. Plot its degree distribution. Of course, you can use the codes seen in previous practical works.\n"
   ]
  },
  {
   "cell_type": "code",
   "execution_count": 2,
   "metadata": {},
   "outputs": [],
   "source": [
    "def load_graph(file):\n",
    "    f = open(file, 'r')\n",
    "    contenu=f.read() \n",
    "    Liste=contenu.split( )\n",
    "    d={}\n",
    "    for l in Liste:\n",
    "        d[l]=[]\n",
    "    j=0   \n",
    "    for j in range(len(Liste)-1):\n",
    "             for k in d.keys():\n",
    "                   if k==Liste[j]:\n",
    "                        if j%2==0:\n",
    "                            d[k].append(Liste[j+1])\n",
    "                        if j%2!=0:\n",
    "                            d[k].append(Liste[j-1])\n",
    "    f.close()\n",
    "    return(d)\n"
   ]
  },
  {
   "cell_type": "code",
   "execution_count": 4,
   "metadata": {},
   "outputs": [
    {
     "name": "stdout",
     "output_type": "stream",
     "text": [
      "nombre de noeuds = 26475\n",
      "nombre de liens= 53381\n"
     ]
    }
   ],
   "source": [
    "#Nombre de noeud et de liens:\n",
    "def number_nodes_links(graph):\n",
    "    f = open(graph, 'r')                    \n",
    "    NombreDeLiens=len(f.readlines())\n",
    "    G=load_graph(graph)\n",
    "    NombreDeNoeuds=0\n",
    "    l=len(G)\n",
    "    print(\"nombre de noeuds =\", l)\n",
    "    print(\"nombre de liens=\", NombreDeLiens)\n",
    "number_nodes_links(\"as_caida.txt\")"
   ]
  },
  {
   "cell_type": "code",
   "execution_count": 3,
   "metadata": {},
   "outputs": [],
   "source": [
    "def Degree_distribution(graph):\n",
    "    G=load_graph(graph)\n",
    "    List=[]\n",
    "    dict={}\n",
    "    for i in G:\n",
    "        List.append(len(G[i]))\n",
    "    for j in List:\n",
    "        dgr=0\n",
    "        for k in List:\n",
    "            if k==j:\n",
    "                dgr+=1\n",
    "                dict[j]=dgr\n",
    "    return dict\n",
    "G=Degree_distribution(\"as_caida.txt\")\n"
   ]
  },
  {
   "cell_type": "code",
   "execution_count": 7,
   "metadata": {},
   "outputs": [
    {
     "data": {
      "image/png": "[encoded data removed]",
      "text/plain": [
       "<Figure size 432x288 with 1 Axes>"
      ]
     },
     "metadata": {},
     "output_type": "display_data"
    }
   ],
   "source": [
    "lists=sorted(G.items()) \n",
    "x,y=zip(*lists) \n",
    "#plt.plot(y,x)\n",
    "plt.scatter(y,x)\n",
    "plt.xscale(\"log\")\n",
    "plt.show()"
   ]
  },
  {
   "cell_type": "markdown",
   "metadata": {},
   "source": [
    "## Exercise 2: Erdös-Rényi model"
   ]
  },
  {
   "cell_type": "markdown",
   "metadata": {},
   "source": [
    "### Question 2\n",
    "\n",
    "Create an Erdös-Rényi graph with the same number of nodes and links as the original graph."
   ]
  },
  {
   "cell_type": "code",
   "execution_count": 5,
   "metadata": {},
   "outputs": [],
   "source": [
    "def Erdös_Rényi(n,m):\n",
    "    dict={}\n",
    "    for i in range(n):\n",
    "        dict[i]=[]\n",
    "    while m!=0:\n",
    "        u=random.randint(0,n-1)\n",
    "        v=random.randint(0,n-1)\n",
    "        if v not in dict[u] and u not in dict[v]:\n",
    "            dict[u].append(v)\n",
    "            dict[v].append(u)\n",
    "            m-=1\n",
    "            \n",
    "    return dict\n",
    "ER=Erdös_Rényi(26475,53381)\n"
   ]
  },
  {
   "cell_type": "code",
   "execution_count": 9,
   "metadata": {},
   "outputs": [],
   "source": [
    "#degree de distribution du graphe_Moedel Erdos Renyi\n",
    "def Degree_distribution2(G):\n",
    "    List=[]\n",
    "    dict={}\n",
    "    for i in G:\n",
    "        List.append(len(G[i]))\n",
    "    for j in List:\n",
    "        dgr=0\n",
    "        for k in List:\n",
    "            if k==j:\n",
    "                dgr+=1\n",
    "                dict[j]=dgr\n",
    "    return dict\n",
    "G2=Degree_distribution2(ER)"
   ]
  },
  {
   "cell_type": "markdown",
   "metadata": {},
   "source": [
    "### Question 3\n",
    "\n",
    "Compare its degree distribution and number of triangles to the one of the original graph."
   ]
  },
  {
   "cell_type": "code",
   "execution_count": 10,
   "metadata": {},
   "outputs": [
    {
     "data": {
      "image/png": "[encoded data removed]",
      "text/plain": [
       "<Figure size 432x288 with 1 Axes>"
      ]
     },
     "metadata": {},
     "output_type": "display_data"
    }
   ],
   "source": [
    "#comparison du dgree de distribution\n",
    "lists=sorted(G.items())\n",
    "lists2=sorted(G2.items())\n",
    "x,y=zip(*lists)\n",
    "a,b=zip(*lists2)\n",
    "plt.subplot(211)\n",
    "plt.scatter(y,x)\n",
    "plt.scatter(b,a)\n",
    "plt.xscale(\"log\")\n",
    "plt.xlabel(\"nombre de voisins\")\n",
    "plt.ylabel(\"nombre de répétition\")\n",
    "plt.title(\"Degree de distribution du graphe original en bleu et le graphe 'Erdos Rényi en orange'\")\n",
    "plt.show()"
   ]
  },
  {
   "cell_type": "code",
   "execution_count": 11,
   "metadata": {},
   "outputs": [
    {
     "name": "stdout",
     "output_type": "stream",
     "text": [
      "le rapport entre les noeuds qui ont un degree différent: 0.0\n"
     ]
    }
   ],
   "source": [
    "#Comparaison des degrés de distribution en comptant la fraction nModel/n\n",
    "nModel=0\n",
    "original=load_graph(\"inet.txt\")\n",
    "for k in original:\n",
    "    try:\n",
    "        if len(ER[k])!=len(original[k]):\n",
    "             nModel+=1\n",
    "    except: pass\n",
    "        \n",
    "print(\"le rapport entre les noeuds qui ont un degree différent:\", nModel/len(original))\n",
    "   "
   ]
  },
  {
   "cell_type": "markdown",
   "metadata": {},
   "source": [
    "On remarque que tous les degrés sont différents"
   ]
  },
  {
   "cell_type": "code",
   "execution_count": 16,
   "metadata": {},
   "outputs": [],
   "source": [
    "#compariason du nombre de traingles\n",
    "def adjList_to_adjMatrix(graph): #transformtion d'une liste adjacente à une matrice adjacente pour faciliter le calcul des triangles\n",
    "    keys=sorted(graph.keys())\n",
    "    size=len(keys)\n",
    "    M = [ [0]*size for i in range(size) ]\n",
    "    for a,b in [(keys.index(a), keys.index(b)) for a, row in graph.items() for b in row]:\n",
    "           M[a][b] = 2 if (a==b) else 1\n",
    "    return M\n",
    "M1=adjList_to_adjMatrix(load_graph(\"as_caida.txt\"))"
   ]
  },
  {
   "cell_type": "code",
   "execution_count": null,
   "metadata": {},
   "outputs": [],
   "source": [
    "#temps d'éxecution trop important\n",
    "def countTriangle(adjMatrix): \n",
    "    nodes = len(adjMatrix) \n",
    "    count_Triangle = 0  \n",
    "    for i in range(nodes): \n",
    "        for j in range(nodes): \n",
    "            for k in range(nodes): \n",
    "                if( i!=j and i !=k and j !=k and \n",
    "                        adjMatrix[i][j] and adjMatrix[j][k] and adjMatrix[k][i]): \n",
    "                    count_Triangle += 1\n",
    "    return int (count_Triangle/6)\n",
    "print(\"le nombre de triangles dans le graph original est :\", countTriangle(M1))"
   ]
  },
  {
   "cell_type": "markdown",
   "metadata": {},
   "source": [
    "le nombre de triangles dans le graph original est : 36365"
   ]
  },
  {
   "cell_type": "code",
   "execution_count": 20,
   "metadata": {},
   "outputs": [],
   "source": [
    "M2=adjList_to_adjMatrix(ER)"
   ]
  },
  {
   "cell_type": "code",
   "execution_count": null,
   "metadata": {},
   "outputs": [],
   "source": [
    "print(\"le nombre de triangles dans le graph ER est :\", countTriangle(M2))"
   ]
  },
  {
   "cell_type": "markdown",
   "metadata": {},
   "source": [
    "le nombre de triangles dans le graph ER est : 11"
   ]
  },
  {
   "cell_type": "markdown",
   "metadata": {},
   "source": [
    "## Exercise 2: Barabasi-Albert model\n"
   ]
  },
  {
   "cell_type": "markdown",
   "metadata": {},
   "source": [
    "### Question 4\n",
    "\n",
    "Create a Barabasi-Albert graph with a number of links and nodes comparable to the original graph. We remind that in a BA model with $n$ nodes, the number of links $m$ is roughly equal to $\\alpha n$ where $ \\alpha $ is the parameter of the model. "
   ]
  },
  {
   "cell_type": "code",
   "execution_count": 23,
   "metadata": {},
   "outputs": [],
   "source": [
    "def degree_node(graph,node):\n",
    "    d = 0\n",
    "    for i in range(node):\n",
    "        d += len(graph[i])\n",
    "    return d"
   ]
  },
  {
   "cell_type": "code",
   "execution_count": 24,
   "metadata": {},
   "outputs": [],
   "source": [
    "def Barabasi_Albert(n,m):\n",
    "    dict={}\n",
    "    for i in range(4):\n",
    "        dict[i]=[]\n",
    "    for j in range(3):\n",
    "        dict[j].append(j+1) #commencer par un graphe  complètement connecté\n",
    "        dict[j+1].append(j)\n",
    "    \n",
    "    for k in range(4,n):\n",
    "        dict[k]=[]      #initialiser la taille du dictionnaire tel que l'original\n",
    "        alpha=m/n #indice du modèle Barabasi-Albert\n",
    "        num=0\n",
    "        while num < alpha:\n",
    "            u = random.randint(0,k-1)\n",
    "            d = degree_node(dict,k-1)\n",
    "            num = len(dict[u])\n",
    "            p = num/d \n",
    "            rand = random.random()\n",
    "            if rand >= p:\n",
    "                if u not in dict[k] and k not in dict[u]:\n",
    "                    dict[k].append(u)\n",
    "                    dict[u].append(k)\n",
    "                    num+=1\n",
    "    return dict\n",
    "BA=Barabasi_Albert(26475,53381)\n"
   ]
  },
  {
   "cell_type": "markdown",
   "metadata": {},
   "source": [
    "### Question 5\n",
    "\n",
    "Compare its degree distribution and number of triangles to the one of the original graph."
   ]
  },
  {
   "cell_type": "code",
   "execution_count": 24,
   "metadata": {},
   "outputs": [],
   "source": [
    "G3=Degree_distribution2(BA)"
   ]
  },
  {
   "cell_type": "code",
   "execution_count": 25,
   "metadata": {},
   "outputs": [
    {
     "data": {
      "image/png": "[encoded data removed]",
      "text/plain": [
       "<Figure size 432x288 with 1 Axes>"
      ]
     },
     "metadata": {},
     "output_type": "display_data"
    }
   ],
   "source": [
    "#comparison du dgree de distribution\n",
    "lists=sorted(G.items())\n",
    "lists2=sorted(G3.items())\n",
    "x,y=zip(*lists)\n",
    "a,b=zip(*lists2)\n",
    "plt.subplot(211)\n",
    "plt.scatter(y,x)\n",
    "plt.scatter(b,a)\n",
    "plt.xscale(\"log\")\n",
    "plt.xlabel(\"nombre de voisins\")\n",
    "plt.ylabel(\"nombre de répétition\")\n",
    "plt.title(\"Degree de distribution du graphe original en bleu et le graphe 'Barabasi-Albert en orange'\")\n",
    "plt.show()"
   ]
  },
  {
   "cell_type": "code",
   "execution_count": 42,
   "metadata": {},
   "outputs": [
    {
     "name": "stdout",
     "output_type": "stream",
     "text": [
      "le rapport entre les noeuds qui ont un degré \n",
      "différent et les neouds qui ont gardé le même degré: 0.0\n"
     ]
    }
   ],
   "source": [
    "#Comparaison des degrés de distribution en comptant la fraction nModel/n\n",
    "nModel=0\n",
    "original1=load_graph(\"inet.txt\")\n",
    "for j in original1:\n",
    "    try:\n",
    "        if len(BA[j])!=len((original1[j])):\n",
    "            nModel+=1\n",
    "    except: pass\n",
    "print(\"le rapport entre les noeuds qui ont un degré \\ndifférent et les neouds qui ont gardé le même degré:\", nModel/len(original1))\n",
    "   "
   ]
  },
  {
   "cell_type": "code",
   "execution_count": null,
   "metadata": {},
   "outputs": [],
   "source": [
    "M3=adjList_to_adjMatrix(BA)\n",
    "print(\"le nombre de triangles du graphe Barabasi Albert est :\", countTriangle(M3))"
   ]
  },
  {
   "cell_type": "markdown",
   "metadata": {},
   "source": [
    "le nombre de triangles du graphe Barabasi Albert est : 144"
   ]
  },
  {
   "cell_type": "markdown",
   "metadata": {},
   "source": [
    "## Exercise 3: Watts-Strogatz model"
   ]
  },
  {
   "cell_type": "markdown",
   "metadata": {},
   "source": [
    "### Question 6\n",
    "\n",
    "Create a regular graph with a number of nodes $n$ equals to the one of the initial CAIDA graph. We have these constraints:\n",
    "\n",
    "* all nodes of a regular graph have the same degree $k$, choose $k$ so that the number $m$ of edges is close to the one of the CAIDA graph,\n",
    "\n",
    "* each node is connected to the nodes with the closest index, for example, if $k=6$, node $i$ will be connected to nodes $ i-1 $, $ i-2 $, $ i-3$ and $ i+1 $, $ i+2 $, $ i+3 $.  "
   ]
  },
  {
   "cell_type": "code",
   "execution_count": 26,
   "metadata": {},
   "outputs": [
    {
     "name": "stdout",
     "output_type": "stream",
     "text": [
      "{0: [11, 12, 13, 1, 2, 3], 1: [12, 13, 0, 2, 3, 4], 2: [13, 0, 1, 3, 4, 5], 3: [0, 1, 2, 4, 5, 6], 4: [1, 2, 3, 5, 6, 7], 5: [2, 3, 4, 6, 7, 8], 6: [3, 4, 5, 7, 8, 9], 7: [4, 5, 6, 8, 9, 10], 8: [5, 6, 7, 9, 10, 11], 9: [6, 7, 8, 10, 11, 12], 10: [7, 8, 9, 11, 12, 13], 11: [8, 9, 10, 12, 13, 0], 12: [9, 10, 11, 13, 0, 1], 13: [10, 11, 12, 0, 1, 2]}\n"
     ]
    }
   ],
   "source": [
    "def Regular_graph(n,k):\n",
    "    dic={}\n",
    "    for i in range(n):\n",
    "        dic[i]=[]\n",
    "        for j in range(i-int(k/2),i+int(k/2)+1):\n",
    "            if j>=0 and j<n:\n",
    "                dic[i].append(j)\n",
    "            else:\n",
    "                dic[i].append(abs(j%n))\n",
    "        dic[i].remove(i)\n",
    "\n",
    "    print(dic)\n",
    "#Regular_graph(26475,2)\n",
    "Regular_graph(14,6)"
   ]
  },
  {
   "cell_type": "markdown",
   "metadata": {},
   "source": [
    "### Question 7\n",
    "\n",
    "Starting from the graph created in the previous question, generate Watts-Strogatz models with several values of the parameter $p$. Compare the degree distribution and number of triangles to the one of the original graph for a few typical values of $k$, say 0.01, 0.1, 0.3."
   ]
  },
  {
   "cell_type": "code",
   "execution_count": null,
   "metadata": {},
   "outputs": [],
   "source": []
  },
  {
   "cell_type": "markdown",
   "metadata": {},
   "source": [
    "### Bonus question\n",
    "\n",
    "Compute the diameter of the regular graph and of the different Watts-Strogatz models that you have made in the previous question and compare the result to what is expected from the course."
   ]
  },
  {
   "cell_type": "code",
   "execution_count": null,
   "metadata": {},
   "outputs": [],
   "source": []
  }
 ],
 "metadata": {
  "kernelspec": {
   "display_name": "Python 3",
   "language": "python",
   "name": "python3"
  },
  "language_info": {
   "codemirror_mode": {
    "name": "ipython",
    "version": 3
   },
   "file_extension": ".py",
   "mimetype": "text/x-python",
   "name": "python",
   "nbconvert_exporter": "python",
   "pygments_lexer": "ipython3",
   "version": "3.6.2"
  }
 },
 "nbformat": 4,
 "nbformat_minor": 2
}
